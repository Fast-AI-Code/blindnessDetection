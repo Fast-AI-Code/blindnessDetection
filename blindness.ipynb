{
 "cells": [
  {
   "cell_type": "code",
   "execution_count": 1,
   "metadata": {
    "ExecuteTime": {
     "end_time": "2021-01-20T13:09:42.093682Z",
     "start_time": "2021-01-20T13:09:42.090482Z"
    },
    "execution": {
     "iopub.execute_input": "2021-03-09T07:28:50.244347Z",
     "iopub.status.busy": "2021-03-09T07:28:50.244147Z",
     "iopub.status.idle": "2021-03-09T07:28:51.504202Z",
     "shell.execute_reply": "2021-03-09T07:28:51.503579Z",
     "shell.execute_reply.started": "2021-03-09T07:28:50.244309Z"
    },
    "run_control": {
     "marked": false
    }
   },
   "outputs": [],
   "source": [
    "import matplotlib.pyplot as plt\n",
    "import pandas as pd\n",
    "import os\n",
    "import cv2\n",
    "import json\n",
    "from collections import Counter\n",
    "import pickle\n",
    "import numpy as np\n",
    "\n",
    "from efficientnet_pytorch import EfficientNet\n",
    "\n",
    "import torch.optim as optim\n",
    "import torch\n",
    "from torch import nn\n",
    "from torch.utils.data import DataLoader, random_split\n",
    "from torch.nn import functional as F\n",
    "from torch.utils.data import Dataset, TensorDataset, DataLoader\n",
    "\n",
    "import torchvision\n",
    "from torchvision.datasets import ImageFolder\n",
    "from torchvision import datasets, transforms\n",
    "\n",
    "import pytorch_lightning as pl\n",
    "from pytorch_lightning import Trainer\n",
    "from pytorch_lightning.loggers import CSVLogger\n",
    "from pytorch_lightning.metrics.functional import accuracy\n",
    "from pytorch_lightning.plugins import *\n",
    "\n",
    "import albumentations as A\n",
    "from albumentations.core.composition import Compose\n",
    "from albumentations.pytorch import ToTensorV2\n",
    "\n",
    "from sklearn import metrics, model_selection\n",
    "from sklearn.model_selection import StratifiedKFold\n",
    "\n",
    "import optuna\n",
    "from optuna.integration import PyTorchLightningPruningCallback\n",
    "os.environ[\"TORCH_HOME\"] = \"/media/hdd/Datasets/\""
   ]
  },
  {
   "cell_type": "code",
   "execution_count": 2,
   "metadata": {
    "execution": {
     "iopub.execute_input": "2021-03-09T07:28:51.505271Z",
     "iopub.status.busy": "2021-03-09T07:28:51.505092Z",
     "iopub.status.idle": "2021-03-09T07:28:51.510935Z",
     "shell.execute_reply": "2021-03-09T07:28:51.510343Z",
     "shell.execute_reply.started": "2021-03-09T07:28:51.505257Z"
    }
   },
   "outputs": [],
   "source": [
    "import torchsnooper as sn"
   ]
  },
  {
   "cell_type": "markdown",
   "metadata": {},
   "source": [
    "# Look at data"
   ]
  },
  {
   "cell_type": "code",
   "execution_count": 3,
   "metadata": {
    "execution": {
     "iopub.execute_input": "2021-03-09T07:28:51.511719Z",
     "iopub.status.busy": "2021-03-09T07:28:51.511550Z",
     "iopub.status.idle": "2021-03-09T07:28:51.514018Z",
     "shell.execute_reply": "2021-03-09T07:28:51.513592Z",
     "shell.execute_reply.started": "2021-03-09T07:28:51.511686Z"
    }
   },
   "outputs": [],
   "source": [
    "main_path = \"/media/hdd/Datasets/blindness/\""
   ]
  },
  {
   "cell_type": "code",
   "execution_count": 4,
   "metadata": {
    "execution": {
     "iopub.execute_input": "2021-03-09T07:28:51.514788Z",
     "iopub.status.busy": "2021-03-09T07:28:51.514620Z",
     "iopub.status.idle": "2021-03-09T07:28:51.531013Z",
     "shell.execute_reply": "2021-03-09T07:28:51.530570Z",
     "shell.execute_reply.started": "2021-03-09T07:28:51.514773Z"
    }
   },
   "outputs": [],
   "source": [
    "df = pd.read_csv(main_path+\"trainLabels.csv\")"
   ]
  },
  {
   "cell_type": "code",
   "execution_count": 5,
   "metadata": {
    "execution": {
     "iopub.execute_input": "2021-03-09T07:28:51.531710Z",
     "iopub.status.busy": "2021-03-09T07:28:51.531595Z",
     "iopub.status.idle": "2021-03-09T07:28:51.541399Z",
     "shell.execute_reply": "2021-03-09T07:28:51.540925Z",
     "shell.execute_reply.started": "2021-03-09T07:28:51.531695Z"
    }
   },
   "outputs": [],
   "source": [
    "df.image = main_path+\"trainImages/\"+df.image+\".jpg\""
   ]
  },
  {
   "cell_type": "code",
   "execution_count": 40,
   "metadata": {
    "execution": {
     "iopub.execute_input": "2021-03-09T07:39:57.970144Z",
     "iopub.status.busy": "2021-03-09T07:39:57.969615Z",
     "iopub.status.idle": "2021-03-09T07:39:57.978371Z",
     "shell.execute_reply": "2021-03-09T07:39:57.977748Z",
     "shell.execute_reply.started": "2021-03-09T07:39:57.970081Z"
    }
   },
   "outputs": [
    {
     "data": {
      "text/html": [
       "<div>\n",
       "<style scoped>\n",
       "    .dataframe tbody tr th:only-of-type {\n",
       "        vertical-align: middle;\n",
       "    }\n",
       "\n",
       "    .dataframe tbody tr th {\n",
       "        vertical-align: top;\n",
       "    }\n",
       "\n",
       "    .dataframe thead th {\n",
       "        text-align: right;\n",
       "    }\n",
       "</style>\n",
       "<table border=\"1\" class=\"dataframe\">\n",
       "  <thead>\n",
       "    <tr style=\"text-align: right;\">\n",
       "      <th></th>\n",
       "      <th>image</th>\n",
       "      <th>level</th>\n",
       "      <th>kfold</th>\n",
       "    </tr>\n",
       "  </thead>\n",
       "  <tbody>\n",
       "    <tr>\n",
       "      <th>0</th>\n",
       "      <td>/media/hdd/Datasets/blindness/trainImages/3922...</td>\n",
       "      <td>0</td>\n",
       "      <td>0</td>\n",
       "    </tr>\n",
       "    <tr>\n",
       "      <th>1</th>\n",
       "      <td>/media/hdd/Datasets/blindness/trainImages/1798...</td>\n",
       "      <td>0</td>\n",
       "      <td>0</td>\n",
       "    </tr>\n",
       "    <tr>\n",
       "      <th>2</th>\n",
       "      <td>/media/hdd/Datasets/blindness/trainImages/9857...</td>\n",
       "      <td>0</td>\n",
       "      <td>0</td>\n",
       "    </tr>\n",
       "    <tr>\n",
       "      <th>3</th>\n",
       "      <td>/media/hdd/Datasets/blindness/trainImages/2469...</td>\n",
       "      <td>1</td>\n",
       "      <td>0</td>\n",
       "    </tr>\n",
       "    <tr>\n",
       "      <th>4</th>\n",
       "      <td>/media/hdd/Datasets/blindness/trainImages/1606...</td>\n",
       "      <td>0</td>\n",
       "      <td>0</td>\n",
       "    </tr>\n",
       "  </tbody>\n",
       "</table>\n",
       "</div>"
      ],
      "text/plain": [
       "                                               image  level  kfold\n",
       "0  /media/hdd/Datasets/blindness/trainImages/3922...      0      0\n",
       "1  /media/hdd/Datasets/blindness/trainImages/1798...      0      0\n",
       "2  /media/hdd/Datasets/blindness/trainImages/9857...      0      0\n",
       "3  /media/hdd/Datasets/blindness/trainImages/2469...      1      0\n",
       "4  /media/hdd/Datasets/blindness/trainImages/1606...      0      0"
      ]
     },
     "execution_count": 40,
     "metadata": {},
     "output_type": "execute_result"
    }
   ],
   "source": [
    "df.head()"
   ]
  },
  {
   "cell_type": "code",
   "execution_count": 7,
   "metadata": {
    "execution": {
     "iopub.execute_input": "2021-03-09T07:28:51.553292Z",
     "iopub.status.busy": "2021-03-09T07:28:51.553173Z",
     "iopub.status.idle": "2021-03-09T07:28:51.556682Z",
     "shell.execute_reply": "2021-03-09T07:28:51.556362Z",
     "shell.execute_reply.started": "2021-03-09T07:28:51.553276Z"
    },
    "scrolled": true
   },
   "outputs": [
    {
     "data": {
      "text/plain": [
       "0    25810\n",
       "2     5292\n",
       "1     2443\n",
       "3      873\n",
       "4      708\n",
       "Name: level, dtype: int64"
      ]
     },
     "execution_count": 7,
     "metadata": {},
     "output_type": "execute_result"
    }
   ],
   "source": [
    "df.level.value_counts()"
   ]
  },
  {
   "cell_type": "code",
   "execution_count": 8,
   "metadata": {
    "execution": {
     "iopub.execute_input": "2021-03-09T07:28:51.557479Z",
     "iopub.status.busy": "2021-03-09T07:28:51.557368Z",
     "iopub.status.idle": "2021-03-09T07:28:51.845879Z",
     "shell.execute_reply": "2021-03-09T07:28:51.845531Z",
     "shell.execute_reply.started": "2021-03-09T07:28:51.557464Z"
    }
   },
   "outputs": [],
   "source": [
    "df[\"kfold\"] = -1\n",
    "df = df.sample(frac=1).reset_index(drop=True)\n",
    "stratify = StratifiedKFold(n_splits=5)\n",
    "for i, (t_idx, v_idx) in enumerate(\n",
    "        stratify.split(X=df.image.values, y=df.level.values)):\n",
    "    df.loc[v_idx, \"kfold\"] = i\n",
    "    df.to_csv(\"train_folds.csv\", index=False)"
   ]
  },
  {
   "cell_type": "markdown",
   "metadata": {},
   "source": [
    "# Create model"
   ]
  },
  {
   "cell_type": "code",
   "execution_count": 9,
   "metadata": {
    "ExecuteTime": {
     "end_time": "2021-01-20T13:11:34.466990Z",
     "start_time": "2021-01-20T13:11:34.459999Z"
    },
    "execution": {
     "iopub.execute_input": "2021-03-09T07:28:51.846698Z",
     "iopub.status.busy": "2021-03-09T07:28:51.846591Z",
     "iopub.status.idle": "2021-03-09T07:28:51.852247Z",
     "shell.execute_reply": "2021-03-09T07:28:51.851806Z",
     "shell.execute_reply.started": "2021-03-09T07:28:51.846684Z"
    }
   },
   "outputs": [],
   "source": [
    "# Efficient net b5\n",
    "class LitModel(pl.LightningModule):\n",
    "    def __init__(self, num_classes, learning_rate=3e-4, weight_decay=0.0001):\n",
    "        super().__init__()\n",
    "\n",
    "        # log hyperparameters\n",
    "        self.save_hyperparameters()\n",
    "        self.num_classes = num_classes\n",
    "\n",
    "        self.learning_rate = learning_rate\n",
    "        self.weight_decay = weight_decay\n",
    "\n",
    "        self.enet = EfficientNet.from_pretrained('efficientnet-b5',\n",
    "                                                 num_classes=self.num_classes)\n",
    "        in_features = self.enet._fc.in_features\n",
    "        self.enet._fc = nn.Linear(in_features, num_classes)\n",
    "\n",
    "#     @sn.snoop()\n",
    "\n",
    "    def forward(self, x):\n",
    "        out = self.enet(x)\n",
    "        return out\n",
    "\n",
    "    def configure_optimizers(self):\n",
    "        optimizer = torch.optim.Adam(self.parameters(),\n",
    "                                      lr=self.learning_rate,\n",
    "                                      weight_decay=self.weight_decay)\n",
    "\n",
    "        scheduler = torch.optim.lr_scheduler.StepLR(optimizer,\n",
    "                                                    step_size=2,\n",
    "                                                    gamma=0.1)\n",
    "\n",
    "        return ([optimizer], [scheduler])\n",
    "\n",
    "\n",
    "#     @sn.snoop()\n",
    "\n",
    "    def training_step(self, train_batch, batch_idx):\n",
    "        x, y = train_batch[\"x\"], train_batch[\"y\"]\n",
    "        preds = self(x)\n",
    "        loss = F.cross_entropy(preds, y)\n",
    "        #         loss.requires_grad = True\n",
    "        acc = accuracy(preds, y)\n",
    "        self.log('train_acc_step', acc)\n",
    "        self.log('train_loss', loss)\n",
    "        return loss\n",
    "\n",
    "    def validation_step(self, val_batch, batch_idx):\n",
    "        x, y = val_batch[\"x\"], val_batch[\"y\"]\n",
    "        preds = self(x)\n",
    "        loss = F.cross_entropy(preds, y)\n",
    "        #         loss.requires_grad = True\n",
    "        acc = accuracy(preds, y)\n",
    "        self.log('val_acc_step', acc)\n",
    "        self.log('val_loss', loss)"
   ]
  },
  {
   "cell_type": "code",
   "execution_count": 10,
   "metadata": {
    "execution": {
     "iopub.execute_input": "2021-03-09T07:28:51.852998Z",
     "iopub.status.busy": "2021-03-09T07:28:51.852847Z",
     "iopub.status.idle": "2021-03-09T07:28:51.856796Z",
     "shell.execute_reply": "2021-03-09T07:28:51.856469Z",
     "shell.execute_reply.started": "2021-03-09T07:28:51.852984Z"
    }
   },
   "outputs": [],
   "source": [
    "class ImageClassDs(Dataset):\n",
    "    def __init__(self,\n",
    "                 df: pd.DataFrame,\n",
    "#                  imfolder: str,\n",
    "                 train: bool = True,\n",
    "                 transforms=None):\n",
    "        self.df = df\n",
    "#         self.imfolder = imfolder\n",
    "        self.train = train\n",
    "        self.transforms = transforms\n",
    "\n",
    "    def __getitem__(self, index):\n",
    "        im_path = self.df.iloc[index]['image']\n",
    "        x = cv2.imread(im_path, cv2.IMREAD_COLOR)\n",
    "        x = cv2.cvtColor(x, cv2.COLOR_BGR2RGB)\n",
    "\n",
    "        if (self.transforms):\n",
    "            x = self.transforms(image=x)['image']\n",
    "\n",
    "        y = self.df.iloc[index]['level']\n",
    "        return {\n",
    "            \"x\": x,\n",
    "            \"y\": y,\n",
    "        }\n",
    "\n",
    "    def __len__(self):\n",
    "        return len(self.df)"
   ]
  },
  {
   "cell_type": "markdown",
   "metadata": {},
   "source": [
    "# Load data"
   ]
  },
  {
   "cell_type": "code",
   "execution_count": 11,
   "metadata": {
    "ExecuteTime": {
     "end_time": "2021-01-20T13:11:57.734304Z",
     "start_time": "2021-01-20T13:11:57.729146Z"
    },
    "execution": {
     "iopub.execute_input": "2021-03-09T07:28:51.857721Z",
     "iopub.status.busy": "2021-03-09T07:28:51.857573Z",
     "iopub.status.idle": "2021-03-09T07:28:51.864558Z",
     "shell.execute_reply": "2021-03-09T07:28:51.864224Z",
     "shell.execute_reply.started": "2021-03-09T07:28:51.857707Z"
    }
   },
   "outputs": [],
   "source": [
    "class ImDataModule(pl.LightningDataModule):\n",
    "    def __init__(\n",
    "            self,\n",
    "            df,\n",
    "            batch_size,\n",
    "            num_classes,\n",
    "#             data_dir,\n",
    "            img_size):\n",
    "        super().__init__()\n",
    "        self.df = df\n",
    "#         self.data_dir = data_dir\n",
    "        self.batch_size = batch_size\n",
    "        self.train_transform = A.Compose([\n",
    "            A.RandomResizedCrop(img_size, img_size, p=1.0),\n",
    "            A.Transpose(p=0.5),\n",
    "            A.HorizontalFlip(p=0.5),\n",
    "            A.VerticalFlip(p=0.5),\n",
    "            A.ShiftScaleRotate(p=0.5),\n",
    "            A.HueSaturationValue(hue_shift_limit=0.2,\n",
    "                                 sat_shift_limit=0.2,\n",
    "                                 val_shift_limit=0.2,\n",
    "                                 p=0.5),\n",
    "            A.RandomBrightnessContrast(brightness_limit=(-0.1, 0.1),\n",
    "                                       contrast_limit=(-0.1, 0.1),\n",
    "                                       p=0.5),\n",
    "            A.Normalize(mean=[0.485, 0.456, 0.406],\n",
    "                        std=[0.229, 0.224, 0.225],\n",
    "                        max_pixel_value=255.0,\n",
    "                        p=1.0),\n",
    "            A.CoarseDropout(p=0.5),\n",
    "            A.Cutout(p=0.5),\n",
    "            ToTensorV2(p=1.0),\n",
    "        ],\n",
    "            p=1.)\n",
    "\n",
    "        self.valid_transform = A.Compose([\n",
    "            A.CenterCrop(img_size, img_size, p=1.),\n",
    "            A.Resize(img_size, img_size),\n",
    "            A.Normalize(mean=[0.485, 0.456, 0.406],\n",
    "                        std=[0.229, 0.224, 0.225],\n",
    "                        max_pixel_value=255.0,\n",
    "                        p=1.0),\n",
    "            ToTensorV2(p=1.0),\n",
    "        ],\n",
    "            p=1.)\n",
    "\n",
    "    def setup(self, stage=None):\n",
    "        dfx = pd.read_csv(\"./train_folds.csv\")\n",
    "        train = dfx.loc[dfx[\"kfold\"] != 1]\n",
    "        val = dfx.loc[dfx[\"kfold\"] == 1]\n",
    "\n",
    "        self.train_dataset = ImageClassDs(train,\n",
    "#                                           self.data_dir,\n",
    "                                          train=True,\n",
    "                                          transforms=self.train_transform)\n",
    "\n",
    "        self.valid_dataset = ImageClassDs(val,\n",
    "#                                           self.data_dir,\n",
    "                                          train=False,\n",
    "                                          transforms=self.valid_transform)\n",
    "\n",
    "    def train_dataloader(self):\n",
    "        return DataLoader(self.train_dataset,\n",
    "                          batch_size=self.batch_size,\n",
    "                          num_workers=12,\n",
    "                          shuffle=True)\n",
    "\n",
    "    def val_dataloader(self):\n",
    "        return DataLoader(self.valid_dataset,\n",
    "                          batch_size=self.batch_size,\n",
    "                          num_workers=12)"
   ]
  },
  {
   "cell_type": "code",
   "execution_count": 12,
   "metadata": {
    "execution": {
     "iopub.execute_input": "2021-03-09T07:28:51.865384Z",
     "iopub.status.busy": "2021-03-09T07:28:51.865275Z",
     "iopub.status.idle": "2021-03-09T07:28:51.867726Z",
     "shell.execute_reply": "2021-03-09T07:28:51.867343Z",
     "shell.execute_reply.started": "2021-03-09T07:28:51.865370Z"
    }
   },
   "outputs": [],
   "source": [
    "batch_size = 64\n",
    "num_classes = 5\n",
    "img_size = 128"
   ]
  },
  {
   "cell_type": "code",
   "execution_count": 13,
   "metadata": {
    "ExecuteTime": {
     "end_time": "2021-01-20T13:11:58.135972Z",
     "start_time": "2021-01-20T13:11:58.131286Z"
    },
    "execution": {
     "iopub.execute_input": "2021-03-09T07:28:51.868552Z",
     "iopub.status.busy": "2021-03-09T07:28:51.868432Z",
     "iopub.status.idle": "2021-03-09T07:28:51.895957Z",
     "shell.execute_reply": "2021-03-09T07:28:51.895611Z",
     "shell.execute_reply.started": "2021-03-09T07:28:51.868539Z"
    }
   },
   "outputs": [],
   "source": [
    "dm = ImDataModule(df,\n",
    "                  batch_size=batch_size,\n",
    "                  num_classes=num_classes,\n",
    "                  img_size=img_size)\n",
    "class_ids = dm.setup()"
   ]
  },
  {
   "cell_type": "markdown",
   "metadata": {},
   "source": [
    "# Logs"
   ]
  },
  {
   "cell_type": "code",
   "execution_count": 14,
   "metadata": {
    "ExecuteTime": {
     "end_time": "2021-01-20T13:12:04.659921Z",
     "start_time": "2021-01-20T13:12:04.444379Z"
    },
    "execution": {
     "iopub.execute_input": "2021-03-09T07:28:51.896965Z",
     "iopub.status.busy": "2021-03-09T07:28:51.896772Z",
     "iopub.status.idle": "2021-03-09T07:28:52.236706Z",
     "shell.execute_reply": "2021-03-09T07:28:52.236346Z",
     "shell.execute_reply.started": "2021-03-09T07:28:51.896923Z"
    }
   },
   "outputs": [
    {
     "name": "stdout",
     "output_type": "stream",
     "text": [
      "Loaded pretrained weights for efficientnet-b5\n"
     ]
    }
   ],
   "source": [
    "model = LitModel(num_classes)"
   ]
  },
  {
   "cell_type": "code",
   "execution_count": 15,
   "metadata": {
    "execution": {
     "iopub.execute_input": "2021-03-09T07:28:52.237422Z",
     "iopub.status.busy": "2021-03-09T07:28:52.237305Z",
     "iopub.status.idle": "2021-03-09T07:28:52.239483Z",
     "shell.execute_reply": "2021-03-09T07:28:52.239046Z",
     "shell.execute_reply.started": "2021-03-09T07:28:52.237407Z"
    }
   },
   "outputs": [],
   "source": [
    "logger = CSVLogger(\"logs\", name=\"eff-b5\")"
   ]
  },
  {
   "cell_type": "code",
   "execution_count": 16,
   "metadata": {
    "ExecuteTime": {
     "end_time": "2021-01-20T13:12:17.444559Z",
     "start_time": "2021-01-20T13:12:17.434634Z"
    },
    "execution": {
     "iopub.execute_input": "2021-03-09T07:28:52.240156Z",
     "iopub.status.busy": "2021-03-09T07:28:52.240044Z",
     "iopub.status.idle": "2021-03-09T07:28:54.607074Z",
     "shell.execute_reply": "2021-03-09T07:28:54.606601Z",
     "shell.execute_reply.started": "2021-03-09T07:28:52.240141Z"
    }
   },
   "outputs": [
    {
     "name": "stderr",
     "output_type": "stream",
     "text": [
      "GPU available: True, used: True\n",
      "TPU available: None, using: 0 TPU cores\n",
      "LOCAL_RANK: 0 - CUDA_VISIBLE_DEVICES: [0]\n",
      "Using native 16bit precision.\n",
      "/home/eragon/.local/lib/python3.9/site-packages/pytorch_lightning/utilities/distributed.py:50: UserWarning: plugin <class 'pytorch_lightning.plugins.sharded_plugin.DDPShardedPlugin'> has added additional required plugins as default: [<class 'pytorch_lightning.plugins.sharded_native_amp_plugin.ShardedNativeAMPPlugin'>]Extend this plugin and override `required_plugins`if this conflicts with your additional plugins.\n",
      "  warnings.warn(*args, **kwargs)\n"
     ]
    }
   ],
   "source": [
    "trainer = pl.Trainer(auto_select_gpus=True,\n",
    "                     gpus=1,\n",
    "                     precision=16,\n",
    "                     profiler=False,\n",
    "                     max_epochs=1,\n",
    "                     callbacks=[pl.callbacks.ProgressBar()],\n",
    "                     enable_pl_optimizer=True,\n",
    "                     logger=logger,\n",
    "                     accelerator='ddp',\n",
    "                     plugins='ddp_sharded')"
   ]
  },
  {
   "cell_type": "markdown",
   "metadata": {},
   "source": [
    "# Train"
   ]
  },
  {
   "cell_type": "code",
   "execution_count": 19,
   "metadata": {
    "ExecuteTime": {
     "end_time": "2021-01-20T13:14:35.107768Z",
     "start_time": "2021-01-20T13:12:18.236980Z"
    },
    "execution": {
     "iopub.execute_input": "2021-03-09T07:32:13.980598Z",
     "iopub.status.busy": "2021-03-09T07:32:13.980448Z",
     "iopub.status.idle": "2021-03-09T07:35:34.436300Z",
     "shell.execute_reply": "2021-03-09T07:35:34.435707Z",
     "shell.execute_reply.started": "2021-03-09T07:32:13.980582Z"
    }
   },
   "outputs": [
    {
     "name": "stderr",
     "output_type": "stream",
     "text": [
      "\n",
      "  | Name | Type         | Params\n",
      "--------------------------------------\n",
      "0 | enet | EfficientNet | 28.4 M\n",
      "--------------------------------------\n",
      "28.4 M    Trainable params\n",
      "0         Non-trainable params\n",
      "28.4 M    Total params\n"
     ]
    },
    {
     "data": {
      "application/vnd.jupyter.widget-view+json": {
       "model_id": "",
       "version_major": 2,
       "version_minor": 0
      },
      "text/plain": [
       "Validation sanity check: 0it [00:00, ?it/s]"
      ]
     },
     "metadata": {},
     "output_type": "display_data"
    },
    {
     "data": {
      "application/vnd.jupyter.widget-view+json": {
       "model_id": "ae4f55efc5e14099be590721867e7f8e",
       "version_major": 2,
       "version_minor": 0
      },
      "text/plain": [
       "Training: 439it [00:00, ?it/s]"
      ]
     },
     "metadata": {},
     "output_type": "display_data"
    },
    {
     "data": {
      "application/vnd.jupyter.widget-view+json": {
       "model_id": "",
       "version_major": 2,
       "version_minor": 0
      },
      "text/plain": [
       "Validating: 0it [00:00, ?it/s]"
      ]
     },
     "metadata": {},
     "output_type": "display_data"
    },
    {
     "data": {
      "text/plain": [
       "1"
      ]
     },
     "execution_count": 19,
     "metadata": {},
     "output_type": "execute_result"
    }
   ],
   "source": [
    "trainer.fit(model, dm)"
   ]
  },
  {
   "cell_type": "markdown",
   "metadata": {},
   "source": [
    "# Test"
   ]
  },
  {
   "cell_type": "code",
   "execution_count": 24,
   "metadata": {
    "execution": {
     "iopub.execute_input": "2021-03-09T07:36:19.063952Z",
     "iopub.status.busy": "2021-03-09T07:36:19.063471Z",
     "iopub.status.idle": "2021-03-09T07:36:20.012495Z",
     "shell.execute_reply": "2021-03-09T07:36:20.012097Z",
     "shell.execute_reply.started": "2021-03-09T07:36:19.063898Z"
    }
   },
   "outputs": [],
   "source": [
    "trainer.save_checkpoint('model1.ckpt')"
   ]
  },
  {
   "cell_type": "code",
   "execution_count": 28,
   "metadata": {
    "execution": {
     "iopub.execute_input": "2021-03-09T07:37:38.655564Z",
     "iopub.status.busy": "2021-03-09T07:37:38.655276Z",
     "iopub.status.idle": "2021-03-09T07:37:38.659506Z",
     "shell.execute_reply": "2021-03-09T07:37:38.658620Z",
     "shell.execute_reply.started": "2021-03-09T07:37:38.655530Z"
    }
   },
   "outputs": [],
   "source": [
    "best_checkpoints = trainer.checkpoint_callback.best_model_path"
   ]
  },
  {
   "cell_type": "code",
   "execution_count": 29,
   "metadata": {
    "execution": {
     "iopub.execute_input": "2021-03-09T07:37:44.677039Z",
     "iopub.status.busy": "2021-03-09T07:37:44.676847Z",
     "iopub.status.idle": "2021-03-09T07:37:45.092853Z",
     "shell.execute_reply": "2021-03-09T07:37:45.092141Z",
     "shell.execute_reply.started": "2021-03-09T07:37:44.677020Z"
    }
   },
   "outputs": [
    {
     "name": "stdout",
     "output_type": "stream",
     "text": [
      "Loaded pretrained weights for efficientnet-b5\n"
     ]
    }
   ],
   "source": [
    "pre_model = LitModel.load_from_checkpoint(checkpoint_path= best_checkpoints).to(\"cuda\")"
   ]
  },
  {
   "cell_type": "code",
   "execution_count": 30,
   "metadata": {
    "execution": {
     "iopub.execute_input": "2021-03-09T07:37:50.473000Z",
     "iopub.status.busy": "2021-03-09T07:37:50.472498Z",
     "iopub.status.idle": "2021-03-09T07:37:50.495508Z",
     "shell.execute_reply": "2021-03-09T07:37:50.494306Z",
     "shell.execute_reply.started": "2021-03-09T07:37:50.472938Z"
    }
   },
   "outputs": [],
   "source": [
    "pre_model.eval()\n",
    "pre_model.freeze()"
   ]
  },
  {
   "cell_type": "code",
   "execution_count": 31,
   "metadata": {
    "execution": {
     "iopub.execute_input": "2021-03-09T07:37:59.539422Z",
     "iopub.status.busy": "2021-03-09T07:37:59.539219Z",
     "iopub.status.idle": "2021-03-09T07:37:59.543076Z",
     "shell.execute_reply": "2021-03-09T07:37:59.542530Z",
     "shell.execute_reply.started": "2021-03-09T07:37:59.539398Z"
    }
   },
   "outputs": [],
   "source": [
    "transforms = A.Compose([\n",
    "            A.CenterCrop(img_size, img_size, p=1.),\n",
    "            A.Resize(img_size, img_size),\n",
    "            A.Normalize(mean=[0.485, 0.456, 0.406],\n",
    "                        std=[0.229, 0.224, 0.225],\n",
    "                        max_pixel_value=255.0,\n",
    "                        p=1.0),\n",
    "            ToTensorV2(p=1.0),\n",
    "        ],\n",
    "            p=1.)\n"
   ]
  },
  {
   "cell_type": "code",
   "execution_count": 32,
   "metadata": {
    "execution": {
     "iopub.execute_input": "2021-03-09T07:38:32.855870Z",
     "iopub.status.busy": "2021-03-09T07:38:32.855333Z",
     "iopub.status.idle": "2021-03-09T07:38:32.869278Z",
     "shell.execute_reply": "2021-03-09T07:38:32.868810Z",
     "shell.execute_reply.started": "2021-03-09T07:38:32.855807Z"
    }
   },
   "outputs": [],
   "source": [
    "test_img = transforms(image=cv2.imread(\"/media/hdd/Datasets/blindness/trainImages/1000_left.jpg\"))"
   ]
  },
  {
   "cell_type": "code",
   "execution_count": 34,
   "metadata": {
    "execution": {
     "iopub.execute_input": "2021-03-09T07:38:38.262139Z",
     "iopub.status.busy": "2021-03-09T07:38:38.261961Z",
     "iopub.status.idle": "2021-03-09T07:38:38.303822Z",
     "shell.execute_reply": "2021-03-09T07:38:38.303105Z",
     "shell.execute_reply.started": "2021-03-09T07:38:38.262125Z"
    }
   },
   "outputs": [
    {
     "data": {
      "text/plain": [
       "tensor([[ 2.4552, -0.1713,  0.0672, -2.9802, -2.5015]], device='cuda:0')"
      ]
     },
     "execution_count": 34,
     "metadata": {},
     "output_type": "execute_result"
    }
   ],
   "source": [
    "y_hat = pre_model(test_img[\"image\"].unsqueeze(0).to(\"cuda\"));y_hat"
   ]
  },
  {
   "cell_type": "code",
   "execution_count": 35,
   "metadata": {
    "execution": {
     "iopub.execute_input": "2021-03-09T07:38:52.492657Z",
     "iopub.status.busy": "2021-03-09T07:38:52.492129Z",
     "iopub.status.idle": "2021-03-09T07:38:52.498264Z",
     "shell.execute_reply": "2021-03-09T07:38:52.497818Z",
     "shell.execute_reply.started": "2021-03-09T07:38:52.492595Z"
    }
   },
   "outputs": [
    {
     "data": {
      "text/plain": [
       "0"
      ]
     },
     "execution_count": 35,
     "metadata": {},
     "output_type": "execute_result"
    }
   ],
   "source": [
    "int(torch.argmax(y_hat, dim = 1))"
   ]
  },
  {
   "cell_type": "code",
   "execution_count": null,
   "metadata": {},
   "outputs": [],
   "source": []
  }
 ],
 "metadata": {
  "kernelspec": {
   "display_name": "Python 3",
   "language": "python",
   "name": "python3"
  },
  "language_info": {
   "codemirror_mode": {
    "name": "ipython",
    "version": 3
   },
   "file_extension": ".py",
   "mimetype": "text/x-python",
   "name": "python",
   "nbconvert_exporter": "python",
   "pygments_lexer": "ipython3",
   "version": "3.9.1"
  },
  "toc": {
   "base_numbering": 1,
   "nav_menu": {},
   "number_sections": true,
   "sideBar": true,
   "skip_h1_title": false,
   "title_cell": "Table of Contents",
   "title_sidebar": "Contents",
   "toc_cell": false,
   "toc_position": {},
   "toc_section_display": true,
   "toc_window_display": false
  },
  "varInspector": {
   "cols": {
    "lenName": 16,
    "lenType": 16,
    "lenVar": 40
   },
   "kernels_config": {
    "python": {
     "delete_cmd_postfix": "",
     "delete_cmd_prefix": "del ",
     "library": "var_list.py",
     "varRefreshCmd": "print(var_dic_list())"
    },
    "r": {
     "delete_cmd_postfix": ") ",
     "delete_cmd_prefix": "rm(",
     "library": "var_list.r",
     "varRefreshCmd": "cat(var_dic_list()) "
    }
   },
   "types_to_exclude": [
    "module",
    "function",
    "builtin_function_or_method",
    "instance",
    "_Feature"
   ],
   "window_display": false
  }
 },
 "nbformat": 4,
 "nbformat_minor": 4
}
